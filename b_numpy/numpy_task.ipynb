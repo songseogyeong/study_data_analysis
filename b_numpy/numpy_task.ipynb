{
 "cells": [
  {
   "cell_type": "markdown",
   "id": "da96dc94-f5bc-4a97-891e-d4065dc487ba",
   "metadata": {},
   "source": [
    "### Numpy Task"
   ]
  },
  {
   "cell_type": "code",
   "execution_count": 2,
   "id": "09565ddb-626a-4697-ab44-219582857617",
   "metadata": {},
   "outputs": [],
   "source": [
    "import numpy as np"
   ]
  },
  {
   "cell_type": "code",
   "execution_count": 3,
   "id": "4c23f631-8d0b-4d3f-a842-aa85ccfacb2a",
   "metadata": {},
   "outputs": [],
   "source": [
    "# 1~10까지의 요소를 ndarray에 담는다.\n",
    "# 3행 2열 list를 ndarray에 담고 각 요소는 순서대로 6, 5, 4, 3, 2, 1이다.\n",
    "# 4행 1열 ndarray, 순서대로 10, 8, 6, 4를 담는다\n",
    "# 1~10까지 요소를 ndarray에 담고 각 요소에 5씩 더해준다.\n",
    "# axis 0이 10인 shape이면서 모든 원소가 0, dtype은 int32인 ndarray만들기\n",
    "# axis 0이 3, axis1이 4인 shape이면서 모든 원소가 1인 ndarray 만들기\n",
    "# axis 0이 5, 각 요소가 0~4인 ndarray 만들기\n",
    "\n",
    "# 아래의 ndarray1이 주어졌을 때 순서대로 문제를 해결한다.\n",
    "ndarray1 = np.arange(start=0, stop=16)\n",
    "\n",
    "# 2 Dimension, axis 1은 2로 변경\n",
    "# 2 Dimension, axis 0은 8로 변경\n",
    "# 3 Dimension으로 변경\n",
    "# ndarray3을 axis 1이 1인 2차원 ndarray로 변환\n",
    "# ndarray3을 1 Dimension으로 변환\n",
    "\n",
    "# 1차원 ndarray 1~100까지 값 중 97값 추출하기\n",
    "\n",
    "# 아래의 ndarray1이 주어졌을 때 순서대로 문제를 해결한다.\n",
    "ndarray1 = np.arange(start=1, stop=21)\n",
    "\n",
    "# 2차원 배열 axis 0은 4, axis 1은 5로 1~20 요소 값 중 15값 추출하기\n",
    "# 2 Dimension, axis 0은 5로 변경\n",
    "# 2행의 4번째 숫자 출력\n",
    "\n",
    "# 1~100중 짝수만 출력\n",
    "# 위에서 구한 짝수들을 axis 0이 10인 2차원 배열로 변환 후 82~100까지 추출\n",
    "# 위에서 구한 요소 중 (86, 100) 좌표 구하기\n",
    "\n",
    "# 아래의 ndarray1이 주어졌을 때 순서대로 문제를 해결한다.\n",
    "ndarray1 = np.arange(start=1, stop=101)\n",
    "\n",
    "# 각 요소중 1의 자리수가 2인 수들만 추출하기\n",
    "\n",
    "# 1~49요소 중 2와 5의 공배수 추출하기\n",
    "# 위에서 추출한 공배수 중 20이상인 값만 추출하기\n",
    "\n",
    "# 데이터를 분석하여, 각 수치별 오름차순 및 내림차순 후 이름을 출력하세요.\n",
    "# [[과일이름], [가격]], 가격별 내림차순\n",
    "array1 = [['Mango', 'Apple', 'Pear', 'Pitch', 'Melon'], [1500, 1800, 2000, 2500, 8500]]\n",
    "\n",
    "# [[이름], [나이], [학점]], 나이별 내림차순, 학점별 오름차순\n",
    "array2 = [['둘리', '또치', '길동', '도너', '마이콜'], [7, 9, 40, 5, 20], ['C', 'A', 'B', 'F', 'D']]\n",
    "\n",
    "# [[국가이름], [GDP 성장률]], GDP 성장률별 오름차순\n",
    "array3 = [['한국', '영국', '러시아', '남아프리카 공화국', '미국'], ['1.7%', '-0.6%', '0.3%', '1.2%', '1.4%']]"
   ]
  },
  {
   "cell_type": "code",
   "execution_count": 4,
   "id": "18d2f94c-e9d3-432a-923b-43861050cd4e",
   "metadata": {},
   "outputs": [
    {
     "name": "stdout",
     "output_type": "stream",
     "text": [
      "○ 1번 문제\n",
      "[ 1  2  3  4  5  6  7  8  9 10]\n"
     ]
    }
   ],
   "source": [
    "print(\"○ 1번 문제\")\n",
    "# 1~10까지의 요소를 ndarray에 담는다.\n",
    "ndarray1 = np.arange(start=1, stop=11)\n",
    "\n",
    "print(ndarray1)"
   ]
  },
  {
   "cell_type": "code",
   "execution_count": 5,
   "id": "c0553a1a-7a5f-4944-aa71-e60545022c15",
   "metadata": {},
   "outputs": [
    {
     "name": "stdout",
     "output_type": "stream",
     "text": [
      "○ 1번 문제 풀이\n",
      "[ 1  2  3  4  5  6  7  8  9 10]\n"
     ]
    }
   ],
   "source": [
    "print(\"○ 1번 문제 풀이\")\n",
    "ndarray1 = np.array(list(range(1, 11)))\n",
    "ndarray1 = np.arange(start=1, stop=11)\n",
    "\n",
    "print(ndarray1)"
   ]
  },
  {
   "cell_type": "code",
   "execution_count": 153,
   "id": "deace517-1aa9-437f-b15e-8b966b83e03b",
   "metadata": {},
   "outputs": [
    {
     "name": "stdout",
     "output_type": "stream",
     "text": [
      "○ 2번 문제\n",
      "[[6 5]\n",
      " [4 3]\n",
      " [2 1]]\n"
     ]
    }
   ],
   "source": [
    "print(\"○ 2번 문제\")\n",
    "# 3행 2열 list를 ndarray에 담고 각 요소는 순서대로 6, 5, 4, 3, 2, 1이다.\n",
    "ndarray1 = np.arange(start=1, stop=7)\n",
    "ndarray2 = ndarray1.reshape((3, -1))\n",
    "\n",
    "print(ndarray2[::-1, ::-1])"
   ]
  },
  {
   "cell_type": "code",
   "execution_count": 6,
   "id": "d1732799-6277-4c15-b9db-3114d8206729",
   "metadata": {},
   "outputs": [
    {
     "name": "stdout",
     "output_type": "stream",
     "text": [
      "○ 2번 문제 풀이\n",
      "<class 'numpy.ndarray'>\n",
      "(3, 2)\n",
      "2\n",
      "int32\n"
     ]
    }
   ],
   "source": [
    "print(\"○ 2번 문제 풀이\")\n",
    "python_list = []\n",
    "python_list.append([6 - i for i in range(2)])\n",
    "python_list.append([4 - i for i in range(2)])\n",
    "python_list.append([2 - i for i in range(2)])\n",
    "\n",
    "ndarray2 = np.array(python_list)\n",
    "\n",
    "print(type(ndarray2), ndarray2.shape, ndarray2.ndim, ndarray2.dtype, sep=\"\\n\")"
   ]
  },
  {
   "cell_type": "code",
   "execution_count": 154,
   "id": "4e0de81b-80eb-497a-88e5-d39f68cdb2c3",
   "metadata": {},
   "outputs": [
    {
     "name": "stdout",
     "output_type": "stream",
     "text": [
      "○ 3번 문제\n",
      "[[10]\n",
      " [ 8]\n",
      " [ 6]\n",
      " [ 4]]\n"
     ]
    }
   ],
   "source": [
    "print(\"○ 3번 문제\")\n",
    "# 4행 1열 ndarray, 순서대로 10, 8, 6, 4를 담는다\n",
    "ndarray1 = np.arange(start=4, stop=11, step=2)\n",
    "ndarray2 = ndarray1.reshape((4, 1))\n",
    "\n",
    "print(ndarray2[::-1])"
   ]
  },
  {
   "cell_type": "code",
   "execution_count": 9,
   "id": "1916629a-2075-45a2-9693-b665bb357dcc",
   "metadata": {},
   "outputs": [
    {
     "name": "stdout",
     "output_type": "stream",
     "text": [
      "○ 3번 문제 풀이\n",
      "[[10]\n",
      " [ 8]\n",
      " [ 6]\n",
      " [ 4]]\n"
     ]
    }
   ],
   "source": [
    "print(\"○ 3번 문제 풀이\")\n",
    "# Transpose: 전치, 행과 열을 바꿔준다.\n",
    "ndarray2 = np.array([[(5 - i) * 2 for i in range(4)]]).T\n",
    "\n",
    "print(ndarray2)"
   ]
  },
  {
   "cell_type": "code",
   "execution_count": 155,
   "id": "a501fa52-a8ea-43be-a76e-2be1aaaef2ef",
   "metadata": {},
   "outputs": [
    {
     "name": "stdout",
     "output_type": "stream",
     "text": [
      "○ 4번 문제\n",
      "[ 1  2  3  4  5  6  7  8  9 10]\n",
      "[ 6  7  8  9 10 11 12 13 14 15]\n"
     ]
    }
   ],
   "source": [
    "print(\"○ 4번 문제\")\n",
    "# 1~10까지 요소를 ndarray에 담고 각 요소에 5씩 더해준다.\n",
    "ndarray1 = np.arange(start=1, stop=11)\n",
    "ndarray2 =  ndarray1 + 5\n",
    "\n",
    "print(ndarray1)\n",
    "print(ndarray2)"
   ]
  },
  {
   "cell_type": "code",
   "execution_count": 10,
   "id": "20e6b5d4-a5b1-4fab-b42f-1f945e293a5d",
   "metadata": {},
   "outputs": [
    {
     "name": "stdout",
     "output_type": "stream",
     "text": [
      "○ 4번 문제 풀이\n",
      "[ 6  7  8  9 10 11 12 13 14 15]\n"
     ]
    }
   ],
   "source": [
    "print(\"○ 4번 문제 풀이\")\n",
    "ndarray1 = np.arange(start=1, stop=11)\n",
    "ndarray_oper = ndarray1 + 5\n",
    "\n",
    "print(ndarray_oper)"
   ]
  },
  {
   "cell_type": "code",
   "execution_count": 156,
   "id": "ca02d08a-47ce-4b88-a24b-49147ad0448b",
   "metadata": {},
   "outputs": [
    {
     "name": "stdout",
     "output_type": "stream",
     "text": [
      "○ 5번 문제\n",
      "[0 0 0 0 0 0 0 0 0 0] int32\n"
     ]
    }
   ],
   "source": [
    "print(\"○ 5번 문제\")\n",
    "# axis 0이 10인 shape이면서 모든 원소가 0, dtype은 int32인 ndarray만들기\n",
    "ndarray1 = np.zeros((10, ), dtype=np.int32)\n",
    "\n",
    "print(ndarray1, ndarray1.dtype)"
   ]
  },
  {
   "cell_type": "code",
   "execution_count": 11,
   "id": "732ae1e2-961e-4526-90b5-d2f040304f18",
   "metadata": {},
   "outputs": [
    {
     "name": "stdout",
     "output_type": "stream",
     "text": [
      "○ 5번 문제 풀이\n",
      "[0 0 0 0 0 0 0 0 0 0]\n",
      "(10,)\n"
     ]
    }
   ],
   "source": [
    "print(\"○ 5번 문제 풀이\")\n",
    "ndarray1 = np.zeros((10,), dtype=np.int32)\n",
    "\n",
    "print(ndarray1, ndarray1.shape, sep=\"\\n\")"
   ]
  },
  {
   "cell_type": "code",
   "execution_count": 157,
   "id": "cf9a8285-5bee-4c6d-a7bd-590ab4463b18",
   "metadata": {},
   "outputs": [
    {
     "name": "stdout",
     "output_type": "stream",
     "text": [
      "○ 6번 문제\n",
      "[[1. 1. 1. 1.]\n",
      " [1. 1. 1. 1.]\n",
      " [1. 1. 1. 1.]]\n"
     ]
    }
   ],
   "source": [
    "print(\"○ 6번 문제\")\n",
    "# axis 0이 3, axis1이 4인 shape이면서 모든 원소가 1인 ndarray 만들기\n",
    "ndarray1 = np.ones((3, 4))\n",
    "\n",
    "print(ndarray1)"
   ]
  },
  {
   "cell_type": "code",
   "execution_count": 12,
   "id": "a4ef56e9-4455-4e49-90bc-c97b569505d6",
   "metadata": {},
   "outputs": [
    {
     "name": "stdout",
     "output_type": "stream",
     "text": [
      "○ 6번 문제 풀이\n",
      "[[1 1 1 1]\n",
      " [1 1 1 1]\n",
      " [1 1 1 1]]\n",
      "(3, 4)\n"
     ]
    }
   ],
   "source": [
    "print(\"○ 6번 문제 풀이\")\n",
    "ndarray1 = np.ones((3, 4), dtype=np.int8)\n",
    "\n",
    "print(ndarray1, ndarray1.shape, sep=\"\\n\")"
   ]
  },
  {
   "cell_type": "code",
   "execution_count": 326,
   "id": "77eed263-5734-4051-b263-93286fd82e10",
   "metadata": {},
   "outputs": [
    {
     "name": "stdout",
     "output_type": "stream",
     "text": [
      "○ 7번 문제\n",
      "[0 1 2 3 4]\n"
     ]
    }
   ],
   "source": [
    "print(\"○ 7번 문제\")\n",
    "# axis 0이 5, 각 요소가 0~4인 ndarray 만들기\n",
    "ndarray1 = np.arange(5)\n",
    "ndarray1 = ndarray1.reshape((5, ))\n",
    "\n",
    "print(ndarray1)"
   ]
  },
  {
   "cell_type": "code",
   "execution_count": 13,
   "id": "afef9981-053a-45d4-a92d-a52013342381",
   "metadata": {},
   "outputs": [
    {
     "name": "stdout",
     "output_type": "stream",
     "text": [
      "○ 7번 문제 풀이\n",
      "[0 1 2 3 4]\n",
      "(5,)\n"
     ]
    }
   ],
   "source": [
    "print(\"○ 7번 문제 풀이\")\n",
    "ndarray1 = np.arange(stop=5)\n",
    "\n",
    "print(ndarray1, ndarray1.shape, sep=\"\\n\")"
   ]
  },
  {
   "cell_type": "code",
   "execution_count": 15,
   "id": "e5f3a407-174b-407d-9cd2-25893d35ed35",
   "metadata": {},
   "outputs": [
    {
     "name": "stdout",
     "output_type": "stream",
     "text": [
      "○ 8번 문제\n",
      "· 8번 문제 1\n",
      "[ 0  1  2  3  4  5  6  7  8  9 10 11 12 13 14 15]\n",
      "\n",
      "\n",
      "· 8번 문제 2\n",
      "[[ 0  1]\n",
      " [ 2  3]\n",
      " [ 4  5]\n",
      " [ 6  7]\n",
      " [ 8  9]\n",
      " [10 11]\n",
      " [12 13]\n",
      " [14 15]]\n",
      "2\n",
      "\n",
      "\n",
      "· 8번 문제 3\n",
      "[[ 0  1]\n",
      " [ 2  3]\n",
      " [ 4  5]\n",
      " [ 6  7]\n",
      " [ 8  9]\n",
      " [10 11]\n",
      " [12 13]\n",
      " [14 15]]\n",
      "2\n",
      "\n",
      "\n",
      "· 8번 문제 4\n",
      "[[[ 0  1]\n",
      "  [ 2  3]]\n",
      "\n",
      " [[ 4  5]\n",
      "  [ 6  7]]\n",
      "\n",
      " [[ 8  9]\n",
      "  [10 11]]\n",
      "\n",
      " [[12 13]\n",
      "  [14 15]]]\n",
      "3\n",
      "\n",
      "\n",
      "· 8번 문제 5\n",
      "[[ 0]\n",
      " [ 1]\n",
      " [ 2]\n",
      " [ 3]\n",
      " [ 4]\n",
      " [ 5]\n",
      " [ 6]\n",
      " [ 7]\n",
      " [ 8]\n",
      " [ 9]\n",
      " [10]\n",
      " [11]\n",
      " [12]\n",
      " [13]\n",
      " [14]\n",
      " [15]]\n",
      "2\n",
      "\n",
      "\n",
      "· 8번 문제 6\n",
      "[ 0  1  2  3  4  5  6  7  8  9 10 11 12 13 14 15]\n",
      "1\n"
     ]
    }
   ],
   "source": [
    "print(\"○ 8번 문제\")\n",
    "print(\"· 8번 문제 1\")\n",
    "# 아래의 ndarray1이 주어졌을 때 순서대로 문제를 해결한다.\n",
    "ndarray1 = np.arange(start=0, stop=16)\n",
    "\n",
    "print(ndarray1)\n",
    "print(\"\\n\")\n",
    "\n",
    "\n",
    "\n",
    "print(\"· 8번 문제 2\")\n",
    "# 2 Dimension, axis 1은 2로 변경\n",
    "ndarray2 = ndarray1.reshape((-1, 2))\n",
    "\n",
    "print(ndarray2)\n",
    "print(ndarray2.ndim)\n",
    "print(\"\\n\")\n",
    "\n",
    "\n",
    "\n",
    "print(\"· 8번 문제 3\")\n",
    "# 2 Dimension, axis 0은 8로 변경\n",
    "ndarray2 = ndarray1.reshape((8, -1))\n",
    "\n",
    "print(ndarray2)\n",
    "print(ndarray2.ndim)\n",
    "print(\"\\n\")\n",
    "\n",
    "\n",
    "\n",
    "\n",
    "print(\"· 8번 문제 4\")\n",
    "# 3 Dimension으로 변경\n",
    "ndarray3 = ndarray2.reshape((4, 2, -1))\n",
    "print(ndarray3)\n",
    "print(ndarray3.ndim)\n",
    "print(\"\\n\")\n",
    "\n",
    "\n",
    "\n",
    "print(\"· 8번 문제 5\")\n",
    "# ndarray3을 axis 1이 1인 2차원 ndarray로 변환\n",
    "ndarray2 = ndarray3.reshape((-1, 1))\n",
    "\n",
    "print(ndarray2)\n",
    "print(ndarray2.ndim)\n",
    "print(\"\\n\")\n",
    "\n",
    "\n",
    "\n",
    "print(\"· 8번 문제 6\")\n",
    "# ndarray3을 1 Dimension으로 변환\n",
    "ndarray1 = ndarray3.reshape((-1,))\n",
    "\n",
    "print(ndarray1)\n",
    "print(ndarray1.ndim)"
   ]
  },
  {
   "cell_type": "code",
   "execution_count": 17,
   "id": "4abe4959-fba1-45b2-8bae-ec59341b9dc7",
   "metadata": {},
   "outputs": [
    {
     "name": "stdout",
     "output_type": "stream",
     "text": [
      "○ 8번 문제 풀이\n",
      "· 8번 문제 1 풀이\n",
      "[ 0  1  2  3  4  5  6  7  8  9 10 11 12 13 14 15]\n",
      "\n",
      "\n",
      "· 8번 문제 2 풀이\n",
      "[[ 0  1]\n",
      " [ 2  3]\n",
      " [ 4  5]\n",
      " [ 6  7]\n",
      " [ 8  9]\n",
      " [10 11]\n",
      " [12 13]\n",
      " [14 15]]\n",
      "(8, 2)\n",
      "\n",
      "\n",
      "· 8번 문제 3 풀이\n",
      "[[ 0  1]\n",
      " [ 2  3]\n",
      " [ 4  5]\n",
      " [ 6  7]\n",
      " [ 8  9]\n",
      " [10 11]\n",
      " [12 13]\n",
      " [14 15]]\n",
      "(8, 2)\n",
      "\n",
      "\n",
      "· 8번 문제 4 풀이\n",
      "[[[ 0  1]\n",
      "  [ 2  3]]\n",
      "\n",
      " [[ 4  5]\n",
      "  [ 6  7]]\n",
      "\n",
      " [[ 8  9]\n",
      "  [10 11]]\n",
      "\n",
      " [[12 13]\n",
      "  [14 15]]]\n",
      "(4, 2, 2)\n",
      "\n",
      "\n",
      "· 8번 문제 5 풀이\n",
      "[[ 0]\n",
      " [ 1]\n",
      " [ 2]\n",
      " [ 3]\n",
      " [ 4]\n",
      " [ 5]\n",
      " [ 6]\n",
      " [ 7]\n",
      " [ 8]\n",
      " [ 9]\n",
      " [10]\n",
      " [11]\n",
      " [12]\n",
      " [13]\n",
      " [14]\n",
      " [15]]\n",
      "(16, 1)\n",
      "\n",
      "\n",
      "· 8번 문제 6 풀이\n",
      "[ 0  1  2  3  4  5  6  7  8  9 10 11 12 13 14 15]\n",
      "(16,)\n"
     ]
    }
   ],
   "source": [
    "print(\"○ 8번 문제 풀이\")\n",
    "print(\"· 8번 문제 1 풀이\")\n",
    "# 아래의 ndarray1이 주어졌을 때 순서대로 문제를 해결한다.\n",
    "ndarray1 = np.arange(start=0, stop=16)\n",
    "\n",
    "print(ndarray1)\n",
    "print(\"\\n\")\n",
    "\n",
    "\n",
    "\n",
    "print(\"· 8번 문제 2 풀이\")\n",
    "# 2 Dimension, axis 1은 2로 변경\n",
    "ndarray2 = ndarray1.reshape((-1, 2))\n",
    "\n",
    "print(ndarray2, ndarray2.shape, sep=\"\\n\")\n",
    "print(\"\\n\")\n",
    "\n",
    "\n",
    "\n",
    "print(\"· 8번 문제 3 풀이\")\n",
    "# 2 Dimension, axis 0은 8로 변경\n",
    "ndarray2 = ndarray1.reshape((8, -1))\n",
    "\n",
    "print(ndarray2, ndarray2.shape, sep=\"\\n\")\n",
    "print(\"\\n\")\n",
    "\n",
    "\n",
    "\n",
    "\n",
    "print(\"· 8번 문제 4 풀이\")\n",
    "# 3 Dimension으로 변경\n",
    "ndarray3 = ndarray2.reshape((4, 2, -1))\n",
    "\n",
    "print(ndarray3, ndarray3.shape, sep=\"\\n\")\n",
    "print(\"\\n\")\n",
    "\n",
    "\n",
    "\n",
    "print(\"· 8번 문제 5 풀이\")\n",
    "# ndarray3을 axis 1이 1인 2차원 ndarray로 변환\n",
    "ndarray2 = ndarray3.reshape((-1, 1))\n",
    "\n",
    "print(ndarray2, ndarray2.shape, sep=\"\\n\")\n",
    "print(\"\\n\")\n",
    "\n",
    "\n",
    "\n",
    "print(\"· 8번 문제 6 풀이\")\n",
    "# ndarray3을 1 Dimension으로 변환\n",
    "#ndarray1 = ndarray3.reshape((-1,))\n",
    "\n",
    "# flatten 시 1차원으로 바꿔준다.\n",
    "ndarray1 = ndarray3.flatten()\n",
    "\n",
    "print(ndarray1, ndarray1.shape, sep=\"\\n\")"
   ]
  },
  {
   "cell_type": "code",
   "execution_count": 226,
   "id": "d07ef8e4-d7d8-4268-8428-1b6a8d2bb000",
   "metadata": {},
   "outputs": [
    {
     "name": "stdout",
     "output_type": "stream",
     "text": [
      "○ 9번 문제\n",
      "97\n"
     ]
    }
   ],
   "source": [
    "print(\"○ 9번 문제\")\n",
    "# 1차원 ndarray 1~100까지 값 중 97값 추출하기\n",
    "ndarray1 = np.arange(1, 101)\n",
    "\n",
    "print(ndarray1[-4])"
   ]
  },
  {
   "cell_type": "code",
   "execution_count": 18,
   "id": "db62b954-1ef6-45c5-8527-d34d20d82779",
   "metadata": {},
   "outputs": [
    {
     "name": "stdout",
     "output_type": "stream",
     "text": [
      "○ 9번 문제 풀이\n",
      "97\n"
     ]
    }
   ],
   "source": [
    "print(\"○ 9번 문제 풀이\")\n",
    "ndarray1 = np.arange(start=1, stop=101)\n",
    "\n",
    "print(ndarray1[96])"
   ]
  },
  {
   "cell_type": "code",
   "execution_count": 227,
   "id": "793471ad-6341-41cb-aaa5-9da820ae8ac4",
   "metadata": {},
   "outputs": [
    {
     "name": "stdout",
     "output_type": "stream",
     "text": [
      "○ 10번 문제\n",
      "[ 1  2  3  4  5  6  7  8  9 10 11 12 13 14 15 16 17 18 19 20]\n",
      "\n",
      "\n",
      "· 10번 문제 1\n",
      "15\n",
      "\n",
      "\n",
      "· 10번 문제 2\n",
      "[[ 1  2  3  4]\n",
      " [ 5  6  7  8]\n",
      " [ 9 10 11 12]\n",
      " [13 14 15 16]\n",
      " [17 18 19 20]]\n",
      "\n",
      "\n",
      "· 10번 문제 3\n",
      "8\n"
     ]
    }
   ],
   "source": [
    "print(\"○ 10번 문제\")\n",
    "# 아래의 ndarray1이 주어졌을 때 순서대로 문제를 해결한다.\n",
    "ndarray1 = np.arange(start=1, stop=21)\n",
    "\n",
    "print(ndarray1)\n",
    "print(\"\\n\")\n",
    "\n",
    "\n",
    "\n",
    "print(\"· 10번 문제 1\")\n",
    "# 2차원 배열 axis 0은 4, axis 1은 5로 1~20 요소 값 중 15값 추출하기\n",
    "ndarray2 = ndarray1.reshape(4, 5)\n",
    "\n",
    "print(ndarray2[2, 4])\n",
    "print(\"\\n\")\n",
    "\n",
    "\n",
    "\n",
    "print(\"· 10번 문제 2\")\n",
    "# 2 Dimension, axis 0은 5로 변경\n",
    "ndarray2 = ndarray2.reshape((5, -1))\n",
    "\n",
    "print(ndarray2)\n",
    "print(\"\\n\")\n",
    "\n",
    "\n",
    "\n",
    "print(\"· 10번 문제 3\")\n",
    "# 2행의 4번째 숫자 출력\n",
    "print(ndarray2[1, 3])"
   ]
  },
  {
   "cell_type": "code",
   "execution_count": 20,
   "id": "fb52010b-fbfd-41b5-b989-606d033b6359",
   "metadata": {},
   "outputs": [
    {
     "name": "stdout",
     "output_type": "stream",
     "text": [
      "○ 10번 문제 풀이\n",
      "[ 1  2  3  4  5  6  7  8  9 10 11 12 13 14 15 16 17 18 19 20]\n",
      "\n",
      "\n",
      "· 10번 문제 1 풀이\n",
      "15\n",
      "\n",
      "\n",
      "· 10번 문제 2 풀이\n",
      "[[ 1  2  3  4]\n",
      " [ 5  6  7  8]\n",
      " [ 9 10 11 12]\n",
      " [13 14 15 16]\n",
      " [17 18 19 20]]\n",
      "\n",
      "\n",
      "· 10번 문제 3 풀이\n",
      "8\n"
     ]
    }
   ],
   "source": [
    "print(\"○ 10번 문제 풀이\")\n",
    "# 아래의 ndarray1이 주어졌을 때 순서대로 문제를 해결한다.\n",
    "ndarray1 = np.arange(start=1, stop=21)\n",
    "\n",
    "print(ndarray1)\n",
    "print(\"\\n\")\n",
    "\n",
    "\n",
    "\n",
    "print(\"· 10번 문제 1 풀이\")\n",
    "# 2차원 배열 axis 0은 4, axis 1은 5로 1~20 요소 값 중 15값 추출하기\n",
    "ndarray2 = ndarray1.reshape((4, 5))\n",
    "\n",
    "print(ndarray2[2, 4])\n",
    "print(\"\\n\")\n",
    "\n",
    "\n",
    "\n",
    "print(\"· 10번 문제 2 풀이\")\n",
    "# 2 Dimension, axis 0은 5로 변경\n",
    "ndarray2 = ndarray2.reshape((5, -1))\n",
    "\n",
    "print(ndarray2)\n",
    "print(\"\\n\")\n",
    "\n",
    "\n",
    "\n",
    "print(\"· 10번 문제 3 풀이\")\n",
    "# 2행의 4번째 숫자 출력\n",
    "print(ndarray2[1, 3])"
   ]
  },
  {
   "cell_type": "code",
   "execution_count": 343,
   "id": "9fb759eb-866d-4a4c-8571-646434582af5",
   "metadata": {},
   "outputs": [
    {
     "name": "stdout",
     "output_type": "stream",
     "text": [
      "○ 11번 문제\n",
      "· 11번 문제 1-1\n",
      "[  2   4   6   8  10  12  14  16  18  20  22  24  26  28  30  32  34  36\n",
      "  38  40  42  44  46  48  50  52  54  56  58  60  62  64  66  68  70  72\n",
      "  74  76  78  80  82  84  86  88  90  92  94  96  98 100]\n",
      "\n",
      "\n",
      "· 11번 문제 1-2\n",
      "[  2   4   6   8  10  12  14  16  18  20  22  24  26  28  30  32  34  36\n",
      "  38  40  42  44  46  48  50  52  54  56  58  60  62  64  66  68  70  72\n",
      "  74  76  78  80  82  84  86  88  90  92  94  96  98 100]\n",
      "\n",
      "\n",
      "· 11번 문제 2\n",
      "[[ 82  84  86  88  90]\n",
      " [ 92  94  96  98 100]]\n",
      "\n",
      "\n",
      "· 11번 문제 3\n",
      "(array([0], dtype=int64), array([2], dtype=int64))\n",
      "(array([1], dtype=int64), array([4], dtype=int64))\n"
     ]
    }
   ],
   "source": [
    "print(\"○ 11번 문제\")\n",
    "print(\"· 11번 문제 1-1\")\n",
    "# 1~100중 짝수만 출력\n",
    "ndarray1 = np.arange(start=1, stop=101)\n",
    "\n",
    "print(ndarray1[ndarray1 % 2 == 0])\n",
    "print(\"\\n\")\n",
    "\n",
    "print(\"· 11번 문제 1-2\")\n",
    "ndarray1 = np.arange(start=2, stop=101, step=2)\n",
    "\n",
    "print(ndarray1)\n",
    "print(\"\\n\")\n",
    "\n",
    "\n",
    "\n",
    "print(\"· 11번 문제 2\")\n",
    "# 위에서 구한 짝수들을 axis 0이 10인 2차원 배열로 변환 후 82~100까지 추출\n",
    "ndarray2 = ndarray1.reshape(10, -1)\n",
    "\n",
    "print(ndarray2[-2:])\n",
    "print(\"\\n\")\n",
    "\n",
    "\n",
    "\n",
    "print(\"· 11번 문제 3\")\n",
    "# 위에서 구한 요소 중 (86, 100) 좌표 구하기\n",
    "print(np.where(ndarray2[-2:] == 86))\n",
    "print(np.where(ndarray2[-2:] == 100))"
   ]
  },
  {
   "cell_type": "code",
   "execution_count": 27,
   "id": "50a7420e-0ea7-42c5-a87f-2049f31bb538",
   "metadata": {},
   "outputs": [
    {
     "name": "stdout",
     "output_type": "stream",
     "text": [
      "○ 11번 문제 풀이\n",
      "· 11번 문제 1 풀이\n",
      "[  2   4   6   8  10  12  14  16  18  20  22  24  26  28  30  32  34  36\n",
      "  38  40  42  44  46  48  50  52  54  56  58  60  62  64  66  68  70  72\n",
      "  74  76  78  80  82  84  86  88  90  92  94  96  98 100]\n",
      "\n",
      "\n",
      "· 11번 문제 2 풀이\n",
      "[ 82  84  86  88  90  92  94  96  98 100]\n",
      "\n",
      "\n",
      "· 11번 문제 3 풀이\n",
      "[[ 82  84  86  88  90]\n",
      " [ 92  94  96  98 100]]\n",
      "86의 좌표(x,y): (0, 2)\n",
      "100의 좌표(x,y): (1, 4)\n",
      "86 100\n"
     ]
    }
   ],
   "source": [
    "print(\"○ 11번 문제 풀이\")\n",
    "print(\"· 11번 문제 1 풀이\")\n",
    "# 1~100중 짝수만 출력\n",
    "ndarray1 = np.arange(start=1, stop=101)\n",
    "ndarray1_even = ndarray1[ndarray1 % 2 == 0]\n",
    "\n",
    "print(ndarray1_even)\n",
    "print(\"\\n\")\n",
    "\n",
    "\n",
    "\n",
    "print(\"· 11번 문제 2 풀이\")\n",
    "# 위에서 구한 짝수들을 axis 0이 10인 2차원 배열로 변환 후 82~100까지 추출\n",
    "ndarray2_even = ndarray1_even.reshape((10, -1))\n",
    "\n",
    "print(ndarray2_even[8:].flatten())\n",
    "print(\"\\n\")\n",
    "\n",
    "\n",
    "\n",
    "print(\"· 11번 문제 3 풀이\")\n",
    "# 위에서 구한 요소 중 (86, 100) 좌표 구하기\n",
    "ndarray2_even_ex = ndarray2_even[8:]\n",
    "\n",
    "print(ndarray2_even_ex)\n",
    "\n",
    "print(\"86의 좌표(x,y): (0, 2)\")\n",
    "print(\"100의 좌표(x,y): (1, 4)\")\n",
    "print(ndarray2_even_ex[0, 2], ndarray2_even_ex[1,4])"
   ]
  },
  {
   "cell_type": "code",
   "execution_count": 26,
   "id": "07e9b970-3ce8-4ad5-8eac-87a1629e074a",
   "metadata": {},
   "outputs": [
    {
     "name": "stdout",
     "output_type": "stream",
     "text": [
      "○ 12번 문제\n",
      "[  1   2   3   4   5   6   7   8   9  10  11  12  13  14  15  16  17  18\n",
      "  19  20  21  22  23  24  25  26  27  28  29  30  31  32  33  34  35  36\n",
      "  37  38  39  40  41  42  43  44  45  46  47  48  49  50  51  52  53  54\n",
      "  55  56  57  58  59  60  61  62  63  64  65  66  67  68  69  70  71  72\n",
      "  73  74  75  76  77  78  79  80  81  82  83  84  85  86  87  88  89  90\n",
      "  91  92  93  94  95  96  97  98  99 100]\n",
      "\n",
      "\n",
      "· 12번 문제 1\n",
      "[ 2 12 22 32 42 52 62 72 82 92]\n",
      "\n",
      "\n",
      "· 12번 문제 2\n",
      "[10 20 30 40]\n",
      "\n",
      "\n",
      "· 12번 문제 3\n",
      "[20 30 40]\n"
     ]
    }
   ],
   "source": [
    "print(\"○ 12번 문제\")\n",
    "# 아래의 ndarray1이 주어졌을 때 순서대로 문제를 해결한다.\n",
    "ndarray1 = np.arange(start=1, stop=101)\n",
    "\n",
    "print(ndarray1)\n",
    "print(\"\\n\")\n",
    "\n",
    "\n",
    "\n",
    "print(\"· 12번 문제 1\")\n",
    "# 각 요소중 1의 자리수가 2인 수들만 추출하기\n",
    "print(ndarray1[ndarray1 % 10 == 2])\n",
    "print(\"\\n\")\n",
    "\n",
    "\n",
    "\n",
    "print(\"· 12번 문제 2\")\n",
    "# 1~49요소 중 2와 5의 공배수 추출하기\n",
    "ndarray1 = ndarray1[:49]\n",
    "ndarray1 = ndarray1[(ndarray1 % 2 == 0) & (ndarray1 % 5 == 0)]\n",
    "\n",
    "print(ndarray1)\n",
    "print(\"\\n\")\n",
    "\n",
    "\n",
    "\n",
    "print(\"· 12번 문제 3\")\n",
    "# 위에서 추출한 공배수 중 20이상인 값만 추출하기\n",
    "print(ndarray1[ndarray1 >= 20])"
   ]
  },
  {
   "cell_type": "code",
   "execution_count": 29,
   "id": "5d5c923d-40fb-43e2-aecb-04b66b69e7de",
   "metadata": {},
   "outputs": [
    {
     "name": "stdout",
     "output_type": "stream",
     "text": [
      "○ 12번 문제 풀이\n",
      "[  1   2   3   4   5   6   7   8   9  10  11  12  13  14  15  16  17  18\n",
      "  19  20  21  22  23  24  25  26  27  28  29  30  31  32  33  34  35  36\n",
      "  37  38  39  40  41  42  43  44  45  46  47  48  49  50  51  52  53  54\n",
      "  55  56  57  58  59  60  61  62  63  64  65  66  67  68  69  70  71  72\n",
      "  73  74  75  76  77  78  79  80  81  82  83  84  85  86  87  88  89  90\n",
      "  91  92  93  94  95  96  97  98  99 100]\n",
      "\n",
      "\n",
      "· 12번 문제 1 풀이\n",
      "[ 2 12 22 32 42 52 62 72 82 92]\n",
      "\n",
      "\n",
      "· 12번 문제 2 풀이\n",
      "[10 20 30 40]\n",
      "\n",
      "\n",
      "· 12번 문제 3 풀이\n",
      "[20 30 40]\n"
     ]
    }
   ],
   "source": [
    "print(\"○ 12번 문제 풀이\")\n",
    "# 아래의 ndarray1이 주어졌을 때 순서대로 문제를 해결한다.\n",
    "ndarray1 = np.arange(start=1, stop=101)\n",
    "\n",
    "print(ndarray1)\n",
    "print(\"\\n\")\n",
    "\n",
    "\n",
    "\n",
    "print(\"· 12번 문제 1 풀이\")\n",
    "# 각 요소중 1의 자리수가 2인 수들만 추출하기\n",
    "print(ndarray1[ndarray1 % 10 == 2])\n",
    "print(\"\\n\")\n",
    "\n",
    "\n",
    "\n",
    "print(\"· 12번 문제 2 풀이\")\n",
    "# 1~49요소 중 2와 5의 공배수 추출하기\n",
    "ndarray1 = np.arange(start=1, stop=50)\n",
    "condition1 = ndarray1 % 2 == 0\n",
    "condition2 = ndarray1 % 5 == 0\n",
    "condition3 = condition1 & condition2\n",
    "result = ndarray1[condition3]\n",
    "\n",
    "print(result)\n",
    "print(\"\\n\")\n",
    "\n",
    "\n",
    "\n",
    "print(\"· 12번 문제 3 풀이\")\n",
    "# 위에서 추출한 공배수 중 20이상인 값만 추출하기\n",
    "condition = result >= 20\n",
    "print(result[condition])"
   ]
  },
  {
   "cell_type": "code",
   "execution_count": 30,
   "id": "bc11ffe7-52c0-4007-81dd-4f03c090d2a3",
   "metadata": {},
   "outputs": [
    {
     "name": "stdout",
     "output_type": "stream",
     "text": [
      "○ 13번 문제\n",
      "· 13번 문제 1\n",
      "[1 0 4 2 3]\n",
      "[0 1 2 3 4]\n",
      "\n",
      "\n",
      "· 13번 문제 2\n",
      "[3 2 4 0 1]\n",
      "[4 3 2 1 0]\n",
      "\n",
      "\n",
      "· 13번 문제 3\n",
      "['Melon' 'Pitch' 'Pear' 'Apple' 'Mango']\n"
     ]
    }
   ],
   "source": [
    "print(\"○ 13번 문제\")\n",
    "# 데이터를 분석하여, 각 수치별 오름차순 및 내림차순 후 이름을 출력하세요.\n",
    "# [[과일이름], [가격]], 가격별 내림차순\n",
    "array1 = [['Mango', 'Apple', 'Pear', 'Pitch', 'Melon'], [1500, 1800, 2000, 2500, 8500]]\n",
    "\n",
    "name = np.array(array1[0])\n",
    "price = np.array(array1[1])\n",
    "\n",
    "\n",
    "\n",
    "print(\"· 13번 문제 1\")\n",
    "# 오름차순\n",
    "print(name.argsort())\n",
    "print(price.argsort())\n",
    "print(\"\\n\")\n",
    "\n",
    "\n",
    "\n",
    "print(\"· 13번 문제 2\")\n",
    "# 내림차순\n",
    "print(name.argsort()[::-1])\n",
    "print(price.argsort()[::-1])\n",
    "print(\"\\n\")\n",
    "\n",
    "\n",
    "\n",
    "print(\"· 13번 문제 3\")\n",
    "print(name[price.argsort()][::-1])"
   ]
  },
  {
   "cell_type": "code",
   "execution_count": 32,
   "id": "7a6dc47f-525b-4c5a-ad57-6aa53e25372e",
   "metadata": {},
   "outputs": [
    {
     "name": "stdout",
     "output_type": "stream",
     "text": [
      "○ 13번 문제 풀이\n",
      "['Mango' 'Apple' 'Pear' 'Pitch' 'Melon']\n",
      "['1500' '1800' '2000' '2500' '8500']\n",
      "['Melon' 'Pitch' 'Pear' 'Apple' 'Mango']\n"
     ]
    }
   ],
   "source": [
    "print(\"○ 13번 문제 풀이\")\n",
    "# 데이터를 분석하여, 각 수치별 오름차순 및 내림차순 후 이름을 출력하세요.\n",
    "# [[과일이름], [가격]], 가격별 내림차순\n",
    "array1 = [['Mango', 'Apple', 'Pear', 'Pitch', 'Melon'], [1500, 1800, 2000, 2500, 8500]]\n",
    "\n",
    "ndarray2 = np.array(array1)\n",
    "fruit_name = ndarray2[:1].flatten()\n",
    "fruit_price = ndarray2[-1]\n",
    "\n",
    "print(fruit_name, fruit_price, sep=\"\\n\")\n",
    "\n",
    "fruit_name_asc = fruit_name[fruit_price.argsort()[::-1]]\n",
    "print(fruit_name_asc)"
   ]
  },
  {
   "cell_type": "code",
   "execution_count": 330,
   "id": "9bae6c9a-dfc4-4769-95a2-4ccec3984102",
   "metadata": {},
   "outputs": [
    {
     "name": "stdout",
     "output_type": "stream",
     "text": [
      "○ 14번 문제\n",
      "· 14번 문제 1\n",
      "['길동' '마이콜' '또치' '둘리' '도너']\n",
      "\n",
      "\n",
      "· 14번 문제 2\n",
      "['또치' '길동' '둘리' '마이콜' '도너']\n"
     ]
    }
   ],
   "source": [
    "print(\"○ 14번 문제\")\n",
    "# [[이름], [나이], [학점]], 나이별 내림차순, 학점별 오름차순\n",
    "array2 = [['둘리', '또치', '길동', '도너', '마이콜'], [7, 9, 40, 5, 20], ['C', 'A', 'B', 'F', 'D']]\n",
    "\n",
    "name= np.array(array2[0])\n",
    "age = np.array(array2[1])\n",
    "grade = np.array(array2[2])\n",
    "\n",
    "\n",
    "print(\"· 14번 문제 1\")\n",
    "# 나이별 내림차순\n",
    "print(name[age.argsort()][::-1])\n",
    "print(\"\\n\")\n",
    "\n",
    "\n",
    "\n",
    "print(\"· 14번 문제 2\")\n",
    "# 학점별 오름차순\n",
    "print(name[grade.argsort()])"
   ]
  },
  {
   "cell_type": "code",
   "execution_count": 38,
   "id": "9e93b609-abc2-4b73-978f-89dbd6cbe164",
   "metadata": {},
   "outputs": [
    {
     "name": "stdout",
     "output_type": "stream",
     "text": [
      "○ 14번 문제 풀이\n",
      "<U11 int16 <U11\n",
      "['길동' '마이콜' '또치' '둘리' '도너']\n",
      "['또치' '길동' '둘리' '마이콜' '도너']\n"
     ]
    }
   ],
   "source": [
    "print(\"○ 14번 문제 풀이\")\n",
    "# [[이름], [나이], [학점]], 나이별 내림차순, 학점별 오름차순\n",
    "array2 = [['둘리', '또치', '길동', '도너', '마이콜'], [7, 9, 40, 5, 20], ['C', 'A', 'B', 'F', 'D']]\n",
    "\n",
    "ndarray2 = np.array(array2)\n",
    "names = ndarray2[:1].flatten()\n",
    "ages = ndarray2[1].astype(np.int16)\n",
    "grades = ndarray2[-1]\n",
    "\n",
    "print(names.dtype, ages.dtype, grades.dtype)\n",
    "\n",
    "print(names[ages.argsort()[::-1]])\n",
    "print(names[grades.argsort()])"
   ]
  },
  {
   "cell_type": "code",
   "execution_count": 332,
   "id": "b90192ad-a4e0-462e-86a9-7b1179ac214d",
   "metadata": {},
   "outputs": [
    {
     "name": "stdout",
     "output_type": "stream",
     "text": [
      "○ 15번 문제\n",
      "['영국' '러시아' '남아프리카 공화국' '미국' '한국']\n"
     ]
    }
   ],
   "source": [
    "print(\"○ 15번 문제\")\n",
    "# [[국가이름], [GDP 성장률]], GDP 성장률별 오름차순\n",
    "array3 = [['한국', '영국', '러시아', '남아프리카 공화국', '미국'], ['1.7%', '-0.6%', '0.3%', '1.2%', '1.4%']]\n",
    "\n",
    "name = np.array(array3[0])\n",
    "gdp = np.array(array3[1])\n",
    "\n",
    "print(name[gdp.argsort()])"
   ]
  },
  {
   "cell_type": "code",
   "execution_count": 45,
   "id": "4b1fd649-ae17-4e35-9447-2de51401a557",
   "metadata": {},
   "outputs": [
    {
     "name": "stdout",
     "output_type": "stream",
     "text": [
      "○ 15번 문제 풀이\n",
      "['영국' '러시아' '남아프리카 공화국' '미국' '한국']\n"
     ]
    }
   ],
   "source": [
    "print(\"○ 15번 문제 풀이\")\n",
    "# [[국가이름], [GDP 성장률]], GDP 성장률별 오름차순\n",
    "array3 = [['한국', '영국', '러시아', '남아프리카 공화국', '미국'], ['1.7%', '-0.6%', '0.3%', '1.2%', '1.4%']]\n",
    "gdp_list = []\n",
    "\n",
    "ndarray2 = np.array(array3)\n",
    "\n",
    "nations = ndarray2[0]\n",
    "gdps = ndarray2[1]\n",
    "\n",
    "for gdp in gdps:\n",
    "    gdp_list.append(gdp.replace('%', ''))\n",
    "\n",
    "gdps = np.array(gdp_list, dtype=np.float16)\n",
    "\n",
    "print(nations[gdps.argsort()])"
   ]
  }
 ],
 "metadata": {
  "kernelspec": {
   "display_name": "Python 3 (ipykernel)",
   "language": "python",
   "name": "python3"
  },
  "language_info": {
   "codemirror_mode": {
    "name": "ipython",
    "version": 3
   },
   "file_extension": ".py",
   "mimetype": "text/x-python",
   "name": "python",
   "nbconvert_exporter": "python",
   "pygments_lexer": "ipython3",
   "version": "3.11.8"
  }
 },
 "nbformat": 4,
 "nbformat_minor": 5
}
