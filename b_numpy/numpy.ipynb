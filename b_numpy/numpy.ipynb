{
 "cells": [
  {
   "cell_type": "code",
   "execution_count": 2,
   "id": "847bda88-1c71-498c-a9e3-d0bf88348edb",
   "metadata": {},
   "outputs": [],
   "source": [
    "import numpy as np"
   ]
  },
  {
   "cell_type": "code",
   "execution_count": 136,
   "id": "a872b209-6551-4833-b9e8-a1d7345aa0e9",
   "metadata": {},
   "outputs": [
    {
     "name": "stdout",
     "output_type": "stream",
     "text": [
      "1.26.4\n"
     ]
    }
   ],
   "source": [
    "print(np.__version__)"
   ]
  },
  {
   "cell_type": "markdown",
   "id": "0f25ca67-afb6-41ec-b01b-eed0a69a1a6a",
   "metadata": {},
   "source": [
    "### Numpy\n",
    "- 머신러닝 애플리케이션에서 데이터 추출, 가공, 변환과 같은 데이터 처리 부분을 담당한다.\n",
    "- 넘파이 기반의 사이킷런을 이해하기 위해서는 넘파이는 필수이다.\n",
    "- 사이킷런은 직관적이고 간결하기 때문에 상대적으로 개발하기 쉽지만 넘파이는 양도 많고 배울 것도 많다.\n",
    "- 넘파이 전체를 다 이해하고 공부하는 것은 머신러닝을 포기하게 만들기 때문에 기본 문법과 중요 API만 이해하는 것이 전략적으로 좋다."
   ]
  },
  {
   "cell_type": "markdown",
   "id": "ea3dcc22-0d61-49f0-afe2-72ea1fa6623b",
   "metadata": {},
   "source": [
    "#### ndarray\n",
    "- N차원(n-dimension) 배열 객체이다.\n",
    "- 파이썬 list를 array() 메소드에 전달하면 ndarray로 변환되고 넘파이의 다양하고 편리한 기능들을 사용할 수 있게 된다.\n",
    "- 반드시 같은 자료형의 데이터만 담아야 한다(배열 객체이기 때문).\n",
    "\n",
    "<img src=\"./images/numpy1.png\" width=\"400px\" style=\"margin-left: 10px\">"
   ]
  },
  {
   "cell_type": "code",
   "execution_count": 137,
   "id": "bd906451-d59d-4247-9e60-8ea85953f3a8",
   "metadata": {},
   "outputs": [
    {
     "name": "stdout",
     "output_type": "stream",
     "text": [
      "<class 'numpy.ndarray'>\n",
      "[1 2 3]\n",
      "==============================\n",
      "(3,)\n",
      "1\n"
     ]
    }
   ],
   "source": [
    "# 파이썬 list 전달하여 array() 메소드를 통해 ndarray로 변환\n",
    "# ndarray1 변수에 담기\n",
    "ndarray1 = np.array([1, 2, 3])\n",
    "# ndarray1 타입, ndarray1 요소 출력, 출력 값 사이에 한 칸 띄우기\n",
    "print(type(ndarray1), ndarray1, sep=\"\\n\")\n",
    "\n",
    "print(\"=\" * 30)\n",
    "\n",
    "# shape: 차원을 알 수 있다.\n",
    "# 보통 shape를 많이 사용한다.\n",
    "print(ndarray1.shape)\n",
    "# 출력 결과: (3,)\n",
    "# 1차원, 안에 3개가 있음!\n",
    "\n",
    "# ndim: 차원의 개수를 나타낸다.\n",
    "print(ndarray1.ndim)"
   ]
  },
  {
   "cell_type": "code",
   "execution_count": 138,
   "id": "ca141968-e42d-42e9-8d7f-a2b4aba9e6d8",
   "metadata": {},
   "outputs": [
    {
     "name": "stdout",
     "output_type": "stream",
     "text": [
      "<class 'numpy.ndarray'>\n",
      "[[1 2 3]\n",
      " [4 5 6]]\n",
      "(2, 3)\n",
      "2\n"
     ]
    }
   ],
   "source": [
    "# 아래의 2차원 list를 ndarray로 변환한다.\n",
    "# 1 2 3\n",
    "# 4 5 6\n",
    "\n",
    "# 차원을 출력해 본다.\n",
    "# 변환한 값을 ndarray2 변수에 담기\n",
    "ndarray2 = np.array([[1, 2, 3], [4, 5, 6]])\n",
    "\n",
    "# ndarray2 타입 및 값 출력\n",
    "print(type(ndarray2), ndarray2, sep=\"\\n\")\n",
    "print(ndarray2.shape)\n",
    "print(ndarray2.ndim)"
   ]
  },
  {
   "cell_type": "markdown",
   "id": "4fe7778a-7348-4bb8-9ad4-59a16053d3e6",
   "metadata": {},
   "source": [
    "#### astype()\n",
    "- ndarray에 저장된 요소의 타입을 변환시킬 때 사용한다.\n",
    "- 대용량 데이터 처리 시, 메모리 절약을 위해 사용한다."
   ]
  },
  {
   "cell_type": "code",
   "execution_count": 139,
   "id": "0f8a424b-10a6-48e0-8358-93618be393b6",
   "metadata": {},
   "outputs": [
    {
     "name": "stdout",
     "output_type": "stream",
     "text": [
      "<class 'numpy.ndarray'>\n",
      "int32\n",
      "<class 'numpy.ndarray'>\n",
      "int8\n"
     ]
    }
   ],
   "source": [
    "# 1차원 list를 ndarray로 변환하여 ndarray1 변수에 담기\n",
    "ndarray1 = np.array([1, 2, 3])\n",
    "\n",
    "# 타입 및 데이터타입 출력\n",
    "print(type(ndarray1))\n",
    "print(ndarray1.dtype)\n",
    "\n",
    "# ndarray1의 데이터타입을 int8로 변경 후 ndarray1_int8 변수에 담기\n",
    "ndarray1_int8 = ndarray1.astype(np.int8)\n",
    "\n",
    "# 타입 및 데이터타입 출력\n",
    "print(type(ndarray1_int8))\n",
    "print(ndarray1_int8.dtype)"
   ]
  },
  {
   "cell_type": "code",
   "execution_count": 140,
   "id": "d77dfc3a-b521-470b-9f7d-8f48e8818117",
   "metadata": {},
   "outputs": [
    {
     "name": "stdout",
     "output_type": "stream",
     "text": [
      "<class 'numpy.ndarray'>\n",
      "int32 (3,)\n",
      "<class 'numpy.ndarray'>\n",
      "float16 (3,) 1\n",
      "[4. 5. 6.]\n"
     ]
    }
   ],
   "source": [
    "# 4, 5, 6을 ndarray에 담는다.\n",
    "# dtype을 확인한 뒤 float16으로 변경시키고 확인한다.\n",
    "\n",
    "# 1차원 list를 ndarray로 변환하여 ndarray1 변수에 담기\n",
    "ndarray1 = np.array([4, 5, 6])\n",
    "\n",
    "# 타입 및 데이터 타입, 차원 출력\n",
    "print(type(ndarray1))\n",
    "print(ndarray1.dtype, ndarray1.shape)\n",
    "\n",
    "# ndarray1 데이터 타입을 float16으로 변경한 후 ndarray_float16 변수에 담기\n",
    "ndarray_float16 = ndarray1.astype(np.float16)\n",
    "# 문자열도 가능! 단, 오타가 많이 난다...\n",
    "# ndarray_float16 = ndarray.astype('float16')\n",
    "\n",
    "# 타입, 데이터 타입, 차원, 차원 개수, 값 출력\n",
    "print(type(ndarray_float16))\n",
    "print(ndarray_float16.dtype, ndarray_float16.shape, ndarray_float16.ndim)\n",
    "print(ndarray_float16)"
   ]
  },
  {
   "cell_type": "markdown",
   "id": "3e79a657-877d-409c-bf62-75692ab621ed",
   "metadata": {},
   "source": [
    "#### axis\n",
    "- 축의 방향성을 표현할 때, axis로 표현할 수 있다.\n",
    "\n",
    "<img src=\"./images/numpy2.png\" width=\"500px\" style=\"margin-left: 10px\">"
   ]
  },
  {
   "cell_type": "markdown",
   "id": "f20ae5a5-2b75-4c77-ac23-d3d841c222cb",
   "metadata": {},
   "source": [
    "#### arange(), zeros(), ones()\n",
    "- ndarray의 요소를 원하는 범위 연속값, 0 또는 1 로 초기화할 때 사용한다."
   ]
  },
  {
   "cell_type": "code",
   "execution_count": 121,
   "id": "edb7bd6e-e0b2-4dfa-a775-39404bf00fae",
   "metadata": {},
   "outputs": [
    {
     "name": "stdout",
     "output_type": "stream",
     "text": [
      "int32 (10,)\n",
      "[0 1 2 3 4 5 6 7 8 9]\n",
      "float64 (2, 3)\n",
      "[[0. 0. 0.]\n",
      " [0. 0. 0.]]\n",
      "int16 (3,)\n",
      "[1 1 1]\n"
     ]
    }
   ],
   "source": [
    "# 0~9까지 1차원 ndarray\n",
    "ndarray1 = np.arange(0, 10)\n",
    "print(ndarray1.dtype, ndarray1.shape)\n",
    "print(ndarray1)\n",
    "\n",
    "# 2행 3열 요소 모두 0으로 초기화 한다\n",
    "ndarray2 = np.zeros((2, 3))\n",
    "print(ndarray2.dtype, ndarray2.shape)\n",
    "print(ndarray2)\n",
    "\n",
    "# 1차원 3칸 배열 요소 모두 1로 초기화\n",
    "# ndarray1 = np.ones(3,)\n",
    "# 머신러닝에서는 아래의 코드 사용!\n",
    "ndarray1 = np.ones((3,), dtype=np.int16)\n",
    "print(ndarray1.dtype, ndarray1.shape)\n",
    "print(ndarray1)"
   ]
  },
  {
   "cell_type": "markdown",
   "id": "61bf47df-7f54-42c4-a8d2-c199bf61e9c1",
   "metadata": {},
   "source": [
    "### reshape()\n",
    "- ndarray의 기존 shape를 다른 shape로 변경한다."
   ]
  },
  {
   "cell_type": "code",
   "execution_count": 120,
   "id": "11e26412-9d4f-4278-84aa-89c80a3b7da1",
   "metadata": {},
   "outputs": [
    {
     "name": "stdout",
     "output_type": "stream",
     "text": [
      "(8,)\n",
      "[0 1 2 3 4 5 6 7]\n",
      "==============================\n",
      "(2, 4)\n",
      "[[0 1 2 3]\n",
      " [4 5 6 7]]\n",
      "==============================\n",
      "(4, 2)\n",
      "[[0 1]\n",
      " [2 3]\n",
      " [4 5]\n",
      " [6 7]]\n",
      "==============================\n",
      "(8, 1)\n",
      "[[0]\n",
      " [1]\n",
      " [2]\n",
      " [3]\n",
      " [4]\n",
      " [5]\n",
      " [6]\n",
      " [7]]\n"
     ]
    }
   ],
   "source": [
    "ndarray1 =np.arange(8)\n",
    "print(ndarray1.shape)\n",
    "print(ndarray1)\n",
    "\n",
    "print(\"=\" * 30)\n",
    "\n",
    "ndarray2 = ndarray1.reshape((2, 4))\n",
    "print(ndarray2.shape)\n",
    "print(ndarray2)\n",
    "\n",
    "print(\"=\" * 30)\n",
    "\n",
    "# 행에 -1을 쓰면 열를 기준으로 자동으로 계산해서 들어감~~\n",
    "ndarray2 = ndarray1.reshape((-1, 2))\n",
    "\n",
    "print(ndarray2.shape)\n",
    "print(ndarray2)\n",
    "\n",
    "print(\"=\" * 30)\n",
    "\n",
    "# 열에 -1을 쓰면 행을 기준으로 자동으로 계산해서 들어감~~\n",
    "ndarray2 = ndarray1.reshape((8, -1))\n",
    "\n",
    "print(ndarray2.shape)\n",
    "print(ndarray2)"
   ]
  },
  {
   "cell_type": "markdown",
   "id": "7a35655b-9f3d-4859-9119-d8686288ec4a",
   "metadata": {},
   "source": [
    "#### Indexing\n",
    "- 특정 위치의 데이터를 가져오는 것\n",
    "- 위치 인덱싱(Location indexing)\n",
    "- 슬라이싱(Slicing)\n",
    "- 팬시 인덱싱(Fancy indexing)\n",
    "- 불린 인덱싱(Boolean indexing)"
   ]
  },
  {
   "cell_type": "code",
   "execution_count": 64,
   "id": "23d00e70-0da4-43fe-af0c-f84e61242511",
   "metadata": {},
   "outputs": [
    {
     "name": "stdout",
     "output_type": "stream",
     "text": [
      "[ 2  3  4  5  6  7  8  9 10]\n",
      "4 <class 'numpy.int32'>\n",
      "10 <class 'numpy.int32'>\n",
      "[  2   3   4   5   6   7   8   9 100]\n",
      "9 <class 'numpy.int32'>\n"
     ]
    }
   ],
   "source": [
    "# 1차원 위치 인덱싱: 전달한 위치(인덱스) 값 한 개 추출\n",
    "# 2부터 10까지 순서대로 요소를 갖는 1차원 ndarray\n",
    "\n",
    "# np.arange(2, 11)\n",
    "ndarray1= np.arange(start=2, stop=11)\n",
    "print(ndarray1)\n",
    "\n",
    "data = ndarray1[2]\n",
    "print(data, type(data))\n",
    "\n",
    "data = ndarray1[-1]\n",
    "print(data, type(data))\n",
    "\n",
    "ndarray1[-1] = 100\n",
    "print(ndarray1)\n",
    "\n",
    "# 9가져오기\n",
    "data = ndarray1[-2]\n",
    "print(data, type(data))"
   ]
  },
  {
   "cell_type": "code",
   "execution_count": 124,
   "id": "658f0b56-16e3-4f9e-8cf4-5776d730153e",
   "metadata": {},
   "outputs": [
    {
     "name": "stdout",
     "output_type": "stream",
     "text": [
      "[1 2 3 4 5 6 7 8 9]\n",
      "[[1 2 3]\n",
      " [4 5 6]\n",
      " [7 8 9]]\n",
      "(3, 3)\n",
      "2\n",
      "4\n",
      "5\n",
      "[1 2 3] <class 'numpy.ndarray'>\n"
     ]
    }
   ],
   "source": [
    "# 2차원 위치 인덱싱: 전달한 위치(인덱스) 값 한 개 추출\n",
    "\n",
    "# 1~9까지 1차원 ndarray 생성\n",
    "ndarray1 = np.arange(start=1, stop=10)\n",
    "print(ndarray1)\n",
    "\n",
    "# 2차원 3행으로 변경\n",
    "ndarray2 = ndarray1.reshape((3, -1))\n",
    "print(ndarray2)\n",
    "print(ndarray2.shape)\n",
    "print(ndarray2.ndim)\n",
    "\n",
    "print(ndarray2[1, 0])\n",
    "print(ndarray2[1, 1])\n",
    "print(ndarray2[0], type(ndarray2[0]))"
   ]
  },
  {
   "cell_type": "code",
   "execution_count": 123,
   "id": "e03cc519-f160-49d0-a950-56267d486126",
   "metadata": {},
   "outputs": [
    {
     "name": "stdout",
     "output_type": "stream",
     "text": [
      "[2 4 6 8]\n",
      "[2 4 6]\n",
      "[2 4 6 8]\n",
      "[2 4 6] 8\n"
     ]
    }
   ],
   "source": [
    "# 1차원 슬라이싱: 시작 위치와 종료 위치에 해당하는 ndarray 추출\n",
    "\n",
    "ndarray1 = np.arange(start=2, stop=10, step=2)\n",
    "print(ndarray1)\n",
    "\n",
    "print(ndarray1[:3])\n",
    "print(ndarray1[:])\n",
    "print(ndarray1[:-1], ndarray1[-1])"
   ]
  },
  {
   "cell_type": "code",
   "execution_count": 90,
   "id": "bd302b03-b58d-46c4-ab00-fad1b1041640",
   "metadata": {},
   "outputs": [
    {
     "name": "stdout",
     "output_type": "stream",
     "text": [
      "[ 1  2  3  4  5  6  7  8  9 10 11 12 13 14 15 16 17 18 19 20 21 22 23 24\n",
      " 25 26 27]\n",
      "==============================\n",
      "[[ 1  2  3]\n",
      " [ 4  5  6]\n",
      " [ 7  8  9]\n",
      " [10 11 12]\n",
      " [13 14 15]\n",
      " [16 17 18]\n",
      " [19 20 21]\n",
      " [22 23 24]\n",
      " [25 26 27]]\n",
      "==============================\n",
      "[[1 2]\n",
      " [4 5]\n",
      " [7 8]]\n",
      "==============================\n",
      "[[13 14 15]\n",
      " [16 17 18]\n",
      " [19 20 21]\n",
      " [22 23 24]\n",
      " [25 26 27]]\n",
      "==============================\n",
      "[[25 26 27]\n",
      " [22 23 24]\n",
      " [19 20 21]\n",
      " [16 17 18]\n",
      " [13 14 15]\n",
      " [10 11 12]\n",
      " [ 7  8  9]\n",
      " [ 4  5  6]\n",
      " [ 1  2  3]]\n",
      "==============================\n",
      "[[27 26 25]\n",
      " [24 23 22]\n",
      " [21 20 19]\n",
      " [18 17 16]\n",
      " [15 14 13]\n",
      " [12 11 10]\n",
      " [ 9  8  7]\n",
      " [ 6  5  4]\n",
      " [ 3  2  1]]\n"
     ]
    }
   ],
   "source": [
    "# 2차원 슬라이싱: 시작 위치와 종료 위치에 해당하는 ndarray 추출\n",
    "\n",
    "ndarray1 = np.arange(start=1, stop=28)\n",
    "print(ndarray1)\n",
    "\n",
    "print(\"=\" * 30)\n",
    "\n",
    "ndarray2 = ndarray1.reshape((-1, 3))\n",
    "print(ndarray2)\n",
    "\n",
    "print(\"=\" * 30)\n",
    "\n",
    "print(ndarray2[:3, :2])\n",
    "\n",
    "print(\"=\" * 30)\n",
    "\n",
    "print(ndarray2[4:9])\n",
    "\n",
    "print(\"=\" * 30)\n",
    "\n",
    "print(ndarray2[::-1])\n",
    "\n",
    "print(\"=\" * 30)\n",
    "\n",
    "print(ndarray2[::-1, ::-1])"
   ]
  },
  {
   "cell_type": "code",
   "execution_count": 92,
   "id": "54d6a375-6116-4253-a53a-dc37d0404d7a",
   "metadata": {},
   "outputs": [
    {
     "name": "stdout",
     "output_type": "stream",
     "text": [
      "[[ 1  2  3  4  5]\n",
      " [ 6  7  8  9 10]\n",
      " [11 12 13 14 15]\n",
      " [16 17 18 19 20]]\n",
      "==============================\n"
     ]
    },
    {
     "data": {
      "text/plain": [
       "array([[ 3,  4,  5],\n",
       "       [ 8,  9, 10],\n",
       "       [18, 19, 20]])"
      ]
     },
     "execution_count": 92,
     "metadata": {},
     "output_type": "execute_result"
    }
   ],
   "source": [
    "# 팬시 인덱싱: list를 전달해서 한 번에 여러 요소를 추출한다.\n",
    "\n",
    "ndarray1 = np.arange(start=1, stop=21)\n",
    "ndarray2 = ndarray1.reshape((4, -1))\n",
    "print(ndarray2)\n",
    "\n",
    "print(\"=\" * 30)\n",
    "\n",
    "ndarray2[[0, 1, 3], 2:5]"
   ]
  },
  {
   "cell_type": "code",
   "execution_count": 126,
   "id": "759a728c-6f26-4951-8d27-6f86c560280d",
   "metadata": {},
   "outputs": [
    {
     "name": "stdout",
     "output_type": "stream",
     "text": [
      "[  1   4   7  10  13  16  19  22  25  28  31  34  37  40  43  46  49  52\n",
      "  55  58  61  64  67  70  73  76  79  82  85  88  91  94  97 100]\n",
      "[ 10  25  40  55  70  85 100]\n"
     ]
    }
   ],
   "source": [
    "# 불린 인덱싱: True인 위치의 ndarray 추출\n",
    "\n",
    "ndarray1 = np.arange(start=1, stop=101, step=3)\n",
    "print(ndarray1)\n",
    "\n",
    "# 원본 ndarray의 조건식을 넣기\n",
    "print(ndarray1[ndarray1 % 5 == 0])"
   ]
  },
  {
   "cell_type": "markdown",
   "id": "fc4d45d8-59e6-4163-9484-125fe5f82bf1",
   "metadata": {},
   "source": [
    "#### Sorting\n",
    "- 모두 오름차순 정렬이며, 내림차순은 오름차순 정렬 후 [::-1]을 붙여 사용한다."
   ]
  },
  {
   "cell_type": "code",
   "execution_count": 99,
   "id": "7f67236a-d151-4eb8-bc11-2f4b164fa47d",
   "metadata": {},
   "outputs": [
    {
     "name": "stdout",
     "output_type": "stream",
     "text": [
      "원본 배열: [0 4 2 5]\n",
      "오름차순으로 정렬된 배열: [0 2 4 5]\n",
      "내림차순으로 정렬된 배열: [5 4 2 0]\n"
     ]
    }
   ],
   "source": [
    "# np.sort(ndarray)\n",
    "\n",
    "original_ndarray = np.array([0, 4, 2, 5])\n",
    "sorted_ndarray = np.sort(original_ndarray)\n",
    "\n",
    "print(f\"원본 배열: {original_ndarray}\")\n",
    "print(f\"오름차순으로 정렬된 배열: {sorted_ndarray}\")\n",
    "print(f\"내림차순으로 정렬된 배열: {sorted_ndarray[::-1]}\")"
   ]
  },
  {
   "cell_type": "code",
   "execution_count": 107,
   "id": "d5319972-199e-4ac9-8636-dd1aacc0cf01",
   "metadata": {},
   "outputs": [
    {
     "name": "stdout",
     "output_type": "stream",
     "text": [
      "원본\n",
      "[[20 18 16 14 12]\n",
      " [10  8  6  4  2]]\n",
      "axis=0 정렬\n",
      "[[10  8  6  4  2]\n",
      " [20 18 16 14 12]]\n",
      "axis=1 정렬\n",
      "[[12 14 16 18 20]\n",
      " [ 2  4  6  8 10]]\n",
      "axis=1 정렬\n",
      "[[10  8  6  4  2]\n",
      " [20 18 16 14 12]]\n"
     ]
    }
   ],
   "source": [
    "# np.sort(ndarray, axis=n)\n",
    "\n",
    "ndarray1 = np.array([i for i in range(20, 0, -2)])\n",
    "ndarray2 = ndarray1.reshape((2, -1))\n",
    "print(f\"원본\\n{ndarray2}\")\n",
    "\n",
    "sorted_ndarray_axis0 = np.sort(ndarray2, axis=0)\n",
    "print(f\"axis=0 정렬\\n{sorted_ndarray_axis0}\")\n",
    "\n",
    "sorted_ndarray_axis0 = np.sort(ndarray2, axis=1)\n",
    "print(f\"axis=1 정렬\\n{sorted_ndarray_axis0}\")\n",
    "\n",
    "print(f\"axis=1 정렬\\n{sorted_ndarray_axis0[::-1, ::-1]}\")"
   ]
  },
  {
   "cell_type": "code",
   "execution_count": 112,
   "id": "b7102284-7804-416c-ba26-b3a63b9006d7",
   "metadata": {},
   "outputs": [
    {
     "name": "stdout",
     "output_type": "stream",
     "text": [
      "정렬 후 원본 인덱스: [0 2 1 3]\n",
      "오름차순으로 정렬된 ndarray: [0 2 3 6]\n"
     ]
    }
   ],
   "source": [
    "# np.argsort(ndarray)\n",
    "\n",
    "original_ndarray = np.array([0, 3, 2, 6])\n",
    "# 인덱스 번호를 가져옴!\n",
    "sorted_indices = np.argsort(original_ndarray)\n",
    "\n",
    "print(f\"정렬 후 원본 인덱스: {sorted_indices}\")\n",
    "\n",
    "sorted_ndarray = original_ndarray[sorted_indices]\n",
    "print(f\"오름차순으로 정렬된 ndarray: {sorted_ndarray}\")"
   ]
  },
  {
   "cell_type": "code",
   "execution_count": 117,
   "id": "1a30f9d3-199d-449a-9eae-3957e5f057b6",
   "metadata": {},
   "outputs": [
    {
     "name": "stdout",
     "output_type": "stream",
     "text": [
      "[0 1 3 2 4]\n",
      "['Lamborghini' 'Mclaren' 'Bentley' 'Benz' 'The New Morning']\n",
      "['Lamborghini' 'Mclaren' 'Bentley' 'Benz' 'The New Morning']\n"
     ]
    }
   ],
   "source": [
    "# 제로백이 빠른 순으로 자동차 이름 정렬하기\n",
    "\n",
    "cars = np.array(['Lamborghini', 'Mclaren', 'Benz', 'Bentley', 'The New Morning'])\n",
    "zero100 = np.array([2.8, 2.9, 5.2, 3.7, 13.5])\n",
    "\n",
    "\n",
    "fast_zero100 = np.argsort(zero100)\n",
    "print(fast_zero100)\n",
    "\n",
    "fast_car = cars[fast_zero100]\n",
    "print(fast_car)\n",
    "\n",
    "\n",
    "print(cars[zero100.argsort()])"
   ]
  },
  {
   "cell_type": "markdown",
   "id": "43aa25f0-cbd2-4280-a044-ebab76440d2d",
   "metadata": {},
   "source": [
    "### 벡터\n",
    "- 데이터 과학에서 벡터란 숫자 자료를 나열한 것을 의미한다.\n",
    "- 벡터는 공간에서 한 점을 나타낸다.\n",
    "- feature 1개당 1차원이고, feature가 3개면 3차원이다.\n",
    "- 이 때, 1차원 좌표평면에서는 열벡터를 표현할 수 있으며, 2차원 좌표평면에서는 2열 데이터를 표현할 수 있게 된다."
   ]
  },
  {
   "cell_type": "markdown",
   "id": "e8c323ef-7c5b-4850-94a2-8e8335d3e729",
   "metadata": {},
   "source": [
    "#### 내적 (Dot product)\n",
    "- 두 벡터의 성분들의 곱의 합\n",
    "\n",
    "<img src=\"./images/dot_product.png\" width=\"500px\" style=\"margin-left: 0;\">"
   ]
  },
  {
   "cell_type": "markdown",
   "id": "b2ff7a90-6cec-4e8a-8ba2-9509b04ee44b",
   "metadata": {},
   "source": [
    "#### 선형대수 (Linear Algebra)\n",
    "- 선형 방정식을 풀기 위해 배우는 학문이다.\n",
    "- 4x = 16일 경우, 좌항의 4를 우항으로 넘겨서 x라는 것을 구할 수 있고, 방정식 1개만으로 해를 구할 수 있다.\n",
    "- y = 2x + 5일 경우, 미지수가 2개이기 때문에 방정식이 2개 필요하다.\n",
    "- 이러한 연립 방정식을 표현할 때, 쉽게 표현하기 위해서 선형대수를 배운다."
   ]
  },
  {
   "cell_type": "code",
   "execution_count": 6,
   "id": "aa74ce05-7327-4e04-8ff9-8a6d7c12c615",
   "metadata": {},
   "outputs": [
    {
     "name": "stdout",
     "output_type": "stream",
     "text": [
      "[[1 2]\n",
      " [3 4]]\n",
      "[[5]\n",
      " [6]]\n",
      "[[17]\n",
      " [39]]\n"
     ]
    }
   ],
   "source": [
    "A = np.array([1, 2, 3, 4]).reshape((2, 2))\n",
    "w = np.array([5, 6]).reshape((2, 1))\n",
    "\n",
    "print(A, w, sep=\"\\n\")\n",
    "\n",
    "print(np.dot(A, w))"
   ]
  },
  {
   "cell_type": "code",
   "execution_count": 7,
   "id": "eb7858d8-e9b0-4f94-b01c-8477ffb7d6ee",
   "metadata": {},
   "outputs": [
    {
     "name": "stdout",
     "output_type": "stream",
     "text": [
      "[[8.]\n",
      " [2.]]\n"
     ]
    }
   ],
   "source": [
    "# x + y = 10\n",
    "# 2x - 3y = 10\n",
    "\n",
    "# Aw = k\n",
    "\n",
    "A = np.array([[1, 1], [2, -3]])\n",
    "k = np.array([[10, 10]]).T\n",
    "w = np.dot(np.linalg.inv(A), k)\n",
    "print(w)"
   ]
  },
  {
   "cell_type": "code",
   "execution_count": 12,
   "id": "7b773285-9b96-43fd-a36a-1454dce2be15",
   "metadata": {},
   "outputs": [
    {
     "name": "stdout",
     "output_type": "stream",
     "text": [
      "[[ 8.]\n",
      " [-2.]\n",
      " [-1.]]\n"
     ]
    }
   ],
   "source": [
    "# x + 2y + 3z = 1\n",
    "# x + 2y + z = 3\n",
    "# x + 3z = 5\n",
    "\n",
    "A = np.array([[1, 2, 3], [1, 2, 1], [1, 0, 3]])\n",
    "k = np.array([[1, 3, 5]]).T\n",
    "w = np.dot(np.linalg.inv(A), k)\n",
    "print(w)"
   ]
  },
  {
   "cell_type": "markdown",
   "id": "7173b8e6-e1e3-4438-a668-ad462af3d891",
   "metadata": {},
   "source": [
    "#### 과결정계 (Overdetermined system)\n",
    "- 미지수보다 많은 방벙식이 있는 연립방정식으로서 보통 해가 존재하지 않는다.\n",
    "- 3차원 공간에 존재하는 2차원 평면에서 3차원 공간의 해를 구할 수 없기 때문에, 3차원을 2차원으로 축소해야 하고, 이 때 투영이 필요하다.\n",
    "- 투영 시, 원본 값에서 어느정도의 loss(손실)가 발생하지만, 이를 감안하고 근사값을 구한다."
   ]
  }
 ],
 "metadata": {
  "kernelspec": {
   "display_name": "Python 3 (ipykernel)",
   "language": "python",
   "name": "python3"
  },
  "language_info": {
   "codemirror_mode": {
    "name": "ipython",
    "version": 3
   },
   "file_extension": ".py",
   "mimetype": "text/x-python",
   "name": "python",
   "nbconvert_exporter": "python",
   "pygments_lexer": "ipython3",
   "version": "3.11.8"
  }
 },
 "nbformat": 4,
 "nbformat_minor": 5
}
